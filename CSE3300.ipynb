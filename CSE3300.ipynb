{
 "cells": [
  {
   "cell_type": "markdown",
   "metadata": {},
   "source": [
    "# Computer Networking & Data\n",
    "## Course Details\n",
    "-  5/6 Homework (30%)\n",
    "-  2-3 Programming Assignments (20%)\n",
    "-  Midterm (20%)\n",
    "-  Final (30%)\n",
    "-  Random Quizzes (3% - Extra)\n",
    "\n",
    "## Topic 1\n",
    "Hosts: end systems running network applications (\"edge\").\n",
    "Communication Links: transport the bits (e.g. fibre, wireless).\n",
    "Bandwidth: transmission rate of links.\n",
    "Packet Switches: (routers) forward/relay data packets.\n",
    "Internet: a network of interconnected networks made up of edge nodes and the network core (interconnected ISPs).\n",
    "Protocols: define format, order of messages recieved among network entites.\n",
    "Guided Media: Media is directed to a specific destination (e.g. down a CAT5e cable).\n",
    "Unguided Media: Media is transmitted \"everywhere\" and picked up by \"listening\" recipients (e.g. by radio waves).\n",
    "\n",
    "### Network Edge\n",
    "Hosts: clients and servers.\n",
    "Access Networks, physical nodes, wired/wireless communication links (can be shared or dedicated).\n",
    "\n",
    "#### DSL\n",
    "-  Voice and data are transmitted over the same line at different frequencies.\n",
    "-  Connections have dedicated access to the central office.\n",
    "![DSL](img/dsl_network.png)\n",
    "\n",
    "#### Cable\n",
    "-  Frequency Division Multiplexing: different channles transmitted in different frequency bands.\n",
    "-  HFC: hybrid fibre coaxial cable.\n",
    "-  Connections share access.\n",
    "![Cable](img/cable.png)\n",
    "\n",
    "#### Home Networks\n",
    "-  Cable or DSL > Modem > Router (+firewall/NAT) > Wireless/CAT5 > Clients\n",
    "\n",
    "#### Enterprise Networks\n",
    "-  Direct ISP Link > Gateway/Router > Switches/Routers > Clients\n",
    "-  10Mbps - 100Gbps transmission rates.\n",
    "\n",
    "#### Wireless Networks\n",
    "-  Wireless LANs:\n",
    "    -  Local to a building/small area.\n",
    "    -  802.11 b/g/n/ac\n",
    "-  Wide Area Wireless Networks:\n",
    "    -  3G, 4G: LTE.\n",
    "    -  10km + range.\n",
    "    -  1-10Mbps\n",
    "    \n",
    "#### Hosts\n",
    "-  Send and recieve data (bits).\n",
    "-  Data is taken and broken into packets of length L (bits).\n",
    "\n",
    "Packet Transfer Delay = Transmission Rate = \n",
    "\n",
    "Time to Transmit L-bit packet = $\\frac{L (bits)}{R (bits/second)}$\n",
    "\n",
    "### Network Core\n",
    "-  Packet Switching: hosts break application layer information into packets and forward from one router to the next (Each packet is transmitted at full speed capacity).\n",
    "-  Store-and-forward: Each packet much arrive in full before retransmission. It takes L/R seconds to transmit L-bit packets at R bps (end-to-end delay is 2L/R).\n",
    "\n",
    "#### Queuing and Loss\n",
    "-  If arrival and rate to link is greater than the transmission rate of link, packets will queue, waiting for transmission.\n",
    "-  Packets are stored in memory (buffer).\n",
    "-  Packets will be lost if the number of queued packets starts to exceed the storage capacity of the router doing the forwarding."
   ]
  },
  {
   "cell_type": "code",
   "execution_count": null,
   "metadata": {
    "collapsed": true
   },
   "outputs": [],
   "source": []
  }
 ],
 "metadata": {
  "kernelspec": {
   "display_name": "Python 3",
   "language": "python",
   "name": "python3"
  },
  "language_info": {
   "codemirror_mode": {
    "name": "ipython",
    "version": 3
   },
   "file_extension": ".py",
   "mimetype": "text/x-python",
   "name": "python",
   "nbconvert_exporter": "python",
   "pygments_lexer": "ipython3",
   "version": "3.6.0"
  }
 },
 "nbformat": 4,
 "nbformat_minor": 2
}
