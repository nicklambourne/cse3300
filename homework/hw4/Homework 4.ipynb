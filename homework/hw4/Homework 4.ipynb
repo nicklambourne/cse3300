{
 "cells": [
  {
   "cell_type": "markdown",
   "metadata": {},
   "source": [
    "# CSE 3300 - Homework 4\n",
    "## Prof. Bing Wang\n",
    "## Nicholas Lambourne - 2749404 - ndl17004"
   ]
  },
  {
   "cell_type": "markdown",
   "metadata": {},
   "source": [
    "## Problem 1\n",
    "### Dijkstra's Algorithm (Working)\n",
    "| Step | N' (visited) | D,p(y) | D,p(w) | D,p(v) | D,p(z) | D,p(t) | D,p(u) | D,p(s) | \n",
    "| --- | --- | --- | --- | --- | --- | --- | --- | --- |\n",
    "| 0   | x | 6,x | 1,x | 3,x | $\\infty$ | $\\infty$ | $\\infty$ | $\\infty$ |\n",
    "| 1 | xw | 6,x |  | 2,w | $\\infty$ | $\\infty$ | 4,w | $\\infty$ |\n",
    "| 2 | xwv | 3,v |  |  | $\\infty$ | 11,v | 3,v | $\\infty$ |\n",
    "| 3 | xwvy |  |  |  | 17,y | 7,y |  | $\\infty$ |\n",
    "| 4 | xwvyu |  |  |  | 17,y | 5,u |  | 7,u |\n",
    "| 5 | xwvyut |  |  |  | 7,t |  |  | 6,t |\n",
    "| 6 | xwvyuts |  |  |  |  |  |  |  |\n",
    "| 7 | xwvyutsz |  |  |  |  |  |  |  | |\n",
    "### Shortest Paths From Node x\n",
    "| Node | Shortest Path | Length |\n",
    "| --- | --- | --- |\n",
    "| x | x | 0 |\n",
    "| y | xwvy | 3 |\n",
    "| w | xw | 1 |\n",
    "| v | xwv | 2 |\n",
    "| z | xwvutz | 7 |\n",
    "| t | xwvut | 5 |\n",
    "| u | xwvu | 3 |\n",
    "| s | xwvuts | 6 |"
   ]
  },
  {
   "cell_type": "markdown",
   "metadata": {},
   "source": [
    "## Problem 2"
   ]
  },
  {
   "cell_type": "markdown",
   "metadata": {},
   "source": [
    "## Problem 3"
   ]
  },
  {
   "cell_type": "markdown",
   "metadata": {},
   "source": [
    "## Problem 4"
   ]
  },
  {
   "cell_type": "markdown",
   "metadata": {},
   "source": [
    "## Problem 5"
   ]
  },
  {
   "cell_type": "markdown",
   "metadata": {},
   "source": [
    "## Problem 6 - Wireshark IP Lab"
   ]
  }
 ],
 "metadata": {
  "kernelspec": {
   "display_name": "Python 3",
   "language": "python",
   "name": "python3"
  },
  "language_info": {
   "codemirror_mode": {
    "name": "ipython",
    "version": 3
   },
   "file_extension": ".py",
   "mimetype": "text/x-python",
   "name": "python",
   "nbconvert_exporter": "python",
   "pygments_lexer": "ipython3",
   "version": "3.6.0"
  }
 },
 "nbformat": 4,
 "nbformat_minor": 2
}
