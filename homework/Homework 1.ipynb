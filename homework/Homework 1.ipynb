{
 "cells": [
  {
   "cell_type": "markdown",
   "metadata": {},
   "source": [
    "## CSE 3300 Homework 1\n",
    "### Nicholas Lambourne - 2749404\n",
    "### Prof. Wang - University of Connecticut"
   ]
  },
  {
   "cell_type": "markdown",
   "metadata": {},
   "source": [
    "### Question 1\n",
    "a) A packet-switched network would be most appropriate for this situation, as the data being transmitted is small (i.e. could fit in a small number of packets) non-continuous (only sent every $k$ time units) and likely to be connected for long periods. If such an application was connected with a circuit-switched network, there would be large amounts of infrastructure required that would go unused in between packets being sent.\n",
    "\n",
    "b) Congestion control is likely still required as athough the sum of application data rates is less than the capacities of the link, there is still the possibility of \n",
    "\n",
    "### Question 2\n",
    "\n",
    "\n",
    "### Question 3\n",
    "\n",
    "\n",
    "### Question 4\n",
    "\n",
    "\n",
    "### Question 5\n",
    "\n",
    "\n",
    "### Question 6\n",
    "\n",
    "\n",
    "### Question 7: Wireshark Lab\n",
    "\n",
    "\n"
   ]
  }
 ],
 "metadata": {
  "kernelspec": {
   "display_name": "Python 3",
   "language": "python",
   "name": "python3"
  },
  "language_info": {
   "codemirror_mode": {
    "name": "ipython",
    "version": 3
   },
   "file_extension": ".py",
   "mimetype": "text/x-python",
   "name": "python",
   "nbconvert_exporter": "python",
   "pygments_lexer": "ipython3",
   "version": "3.6.0"
  }
 },
 "nbformat": 4,
 "nbformat_minor": 2
}
