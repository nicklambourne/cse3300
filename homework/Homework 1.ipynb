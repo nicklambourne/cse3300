{
 "cells": [
  {
   "cell_type": "markdown",
   "metadata": {},
   "source": [
    "## CSE 3300 Homework 1\n",
    "### Nicholas Lambourne - 2749404\n",
    "### Prof. Wang - University of Connecticut"
   ]
  },
  {
   "cell_type": "markdown",
   "metadata": {},
   "source": [
    "### Question 1\n",
    "a) A packet-switched network would be most appropriate for this situation, as the data being transmitted is small (i.e. could fit in a small number of packets) non-continuous (only sent every $k$ time units) and likely to be connected for long periods. If such an application was connected with a circuit-switched network, there would be large amounts of infrastructure required that would go unused in between packets being sent.\n",
    "\n",
    "b) Given that the generous provision of link capacity exceeds the sum of application data rate for every (potential) connection, even in the worst case (simultaneous transmission of packets from every host running the application) no link in the network would exceed its capacity. Thus, no congestion control is required.\n",
    "\n",
    "### Question 2\n",
    "a) $d_{prop} = \\frac{m}{s}$\n",
    "\n",
    "b) $d_{trans} = \\frac{L}{R}$\n",
    "\n",
    "c) $d_{end-end} = d_{trans} + d_{prop}$\n",
    "\n",
    "d) At time $d_{trans}$ the very last bit of the packet has just entered the link connecting Host A to the network.\n",
    "\n",
    "e) If $d_{prop} > d_{trans}$, at time $t=d_{trans}$ the first segment of the packet is part way along the link between hosts A and B.\n",
    "\n",
    "f) If $d_{prop} < d_{trans}$, at time $t=d_{trans}$ the first segment of the packet will already have reached Host B.\n",
    "\n",
    "g) $$d_{prop} = \\frac{m}{s},\\,d_trans = \\frac{L}{R}$$\n",
    "   $$d_{prop} = d_{trans}$$\n",
    "   $$\\frac{m}{s} = \\frac{L}{R}$$   \n",
    "   $$m = \\frac{L}{R} \\cdot s$$\n",
    "   $$m = \\frac{120bits}{56\\cdot1024bps}\\cdot 2.5\\cdot10^8m/s$$\n",
    "   $m = 523158.28$ meters\n",
    "\n",
    "### Question 3\n",
    "a)\n",
    "\n",
    "b)\n",
    "\n",
    "c)\n",
    "\n",
    "\n",
    "### Question 4\n",
    "a)\n",
    "\n",
    "b)\n",
    "\n",
    "c)\n",
    "\n",
    "d)\n",
    "\n",
    "e)\n",
    "\n",
    "### Question 5\n",
    "![Traceroute](img/traceroute.png)\n",
    "1) Average: $\\frac{4.665 + 4.667 + 4.770 + 4.560 + 4.623}{5} = 4.657$\n",
    "\n",
    "SD: $\\sqrt{\\frac{1}{N}\\cdot\\sum_{i=1}^N(x_i - \\mu)^2} = 0.0686$\n",
    "\n",
    "2) There are 10 routers along the path to the host.\n",
    "\n",
    "3)\n",
    "\n",
    "### Question 6\n",
    "Suppose two end hosts, $A$ and $B$, are connected by 10 links, each with packet loss probability $p$, $(0<p<1)$, and the loss probabilities for these links are independent. What is the probability that a packet sent from $A$ is receieved successfully at the receiver $B$?\n",
    "\n",
    "$$P(s) = (1-p)^{10}$$\n",
    "\n",
    "### Question 7: Wireshark Lab\n",
    "\n",
    "\n"
   ]
  },
  {
   "cell_type": "code",
   "execution_count": null,
   "metadata": {
    "collapsed": true
   },
   "outputs": [],
   "source": []
  }
 ],
 "metadata": {
  "kernelspec": {
   "display_name": "Python 3",
   "language": "python",
   "name": "python3"
  },
  "language_info": {
   "codemirror_mode": {
    "name": "ipython",
    "version": 3
   },
   "file_extension": ".py",
   "mimetype": "text/x-python",
   "name": "python",
   "nbconvert_exporter": "python",
   "pygments_lexer": "ipython3",
   "version": "3.6.0"
  }
 },
 "nbformat": 4,
 "nbformat_minor": 2
}
